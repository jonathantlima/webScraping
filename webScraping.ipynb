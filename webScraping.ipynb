{
  "nbformat": 4,
  "nbformat_minor": 0,
  "metadata": {
    "colab": {
      "provenance": [],
      "authorship_tag": "ABX9TyORKsJAqoKdVkIHFMj9Uqjx",
      "include_colab_link": true
    },
    "kernelspec": {
      "name": "python3",
      "display_name": "Python 3"
    },
    "language_info": {
      "name": "python"
    }
  },
  "cells": [
    {
      "cell_type": "markdown",
      "metadata": {
        "id": "view-in-github",
        "colab_type": "text"
      },
      "source": [
        "<a href=\"https://colab.research.google.com/github/jonathantlima/webScraping/blob/main/webScraping.ipynb\" target=\"_parent\"><img src=\"https://colab.research.google.com/assets/colab-badge.svg\" alt=\"Open In Colab\"/></a>"
      ]
    },
    {
      "cell_type": "markdown",
      "source": [
        "**This notebook shows an example of `web scraping` for retrieving data contained in a table. The key idea is to access a webpage using `requests` and from there derive a `DataFrame` and make a plot.**"
      ],
      "metadata": {
        "id": "BmQXrplJyy6h"
      }
    },
    {
      "cell_type": "code",
      "execution_count": 1,
      "metadata": {
        "id": "UZDiSl3IUsBJ"
      },
      "outputs": [],
      "source": [
        "'''\n",
        "The library `requests` enables access to a particular URL while `BeautifulSoup`\n",
        "allows to find and manipulate data within HTML.\n",
        "'''\n",
        "import requests\n",
        "from bs4 import BeautifulSoup"
      ]
    },
    {
      "cell_type": "code",
      "source": [
        "url = 'https://www.statista.com/statistics/793628/worldwide-developer-survey-most-used-languages/'\n",
        "response = requests.get(url)"
      ],
      "metadata": {
        "id": "KOKN7CmpVYe3"
      },
      "execution_count": 2,
      "outputs": []
    },
    {
      "cell_type": "code",
      "source": [
        "'''\n",
        "The argument `html.parser` is necessary to enable a scan in the corresponding\n",
        "HTML text, i.e., the HTML file itself which has been previously requested.\n",
        "'''\n",
        "soup = BeautifulSoup(response.text, 'html.parser')\n",
        "table = soup.find('table')"
      ],
      "metadata": {
        "id": "bZDb2Z5LVvQU"
      },
      "execution_count": 3,
      "outputs": []
    },
    {
      "cell_type": "code",
      "source": [
        "'''\n",
        "The object `table` was created from the find function of module BeautifulSoup.\n",
        "This object is subjected to `find_all` function. Warning! It is not native in\n",
        "Python.\n",
        "The `columns` object is a list with two entries. While building this notebook I\n",
        "attempted to use `.text.strip()` directly in each item, however, Python couldn't\n",
        "handle and raised and error. So I approached `column` to `column`.\n",
        "'''\n",
        "dataset = []\n",
        "\n",
        "for row in table.find_all('tr'):\n",
        "    columns = row.find_all('td')\n",
        "    for column in columns:\n",
        "        dataset.append(column.text.strip())"
      ],
      "metadata": {
        "id": "xEzOyEqmV3hr"
      },
      "execution_count": 4,
      "outputs": []
    },
    {
      "cell_type": "code",
      "source": [
        "#Checking if the dataset list was created correctly.\n",
        "dataset[:5]"
      ],
      "metadata": {
        "colab": {
          "base_uri": "https://localhost:8080/"
        },
        "id": "j__YDyjria79",
        "outputId": "4592b95c-7a5a-44b4-c9b0-13f21818cc68"
      },
      "execution_count": 5,
      "outputs": [
        {
          "output_type": "execute_result",
          "data": {
            "text/plain": [
              "['JavaScript', '63.61%', 'HTML/CSS', '52.97%', 'Python']"
            ]
          },
          "metadata": {},
          "execution_count": 5
        }
      ]
    },
    {
      "cell_type": "code",
      "source": [
        "'''\n",
        "Since list `dataset` has all entries in a single column, that is necessary to\n",
        "split the data between programming languages [PL] and percentages [Perc]. One\n",
        "can verify that every programming language has an even index. The percentages\n",
        "are converted to float so it can be used to plot.\n",
        "'''\n",
        "PL = []\n",
        "Perc = []\n",
        "\n",
        "for data in dataset:\n",
        "    if dataset.index(data) % 2 == 0:\n",
        "      PL.append(data)\n",
        "    else:\n",
        "      Perc.append(float(data.strip('%')))"
      ],
      "metadata": {
        "id": "qwIZWEsRjyYe"
      },
      "execution_count": 6,
      "outputs": []
    },
    {
      "cell_type": "code",
      "source": [
        "#The former lists are then used to create a dictionary.\n",
        "dataset_dict = {\n",
        "    'Programming Language': PL,\n",
        "    'Percentage': Perc\n",
        "}"
      ],
      "metadata": {
        "id": "kCagJJJGmfkg"
      },
      "execution_count": 7,
      "outputs": []
    },
    {
      "cell_type": "code",
      "source": [
        "\"Checking if the dictionary was created correctly\"\n",
        "dataset_dict"
      ],
      "metadata": {
        "colab": {
          "base_uri": "https://localhost:8080/"
        },
        "id": "exmJaeB2pWxE",
        "outputId": "e184895e-9d63-4267-e637-1b76fa171ccf"
      },
      "execution_count": 8,
      "outputs": [
        {
          "output_type": "execute_result",
          "data": {
            "text/plain": [
              "{'Programming Language': ['JavaScript',\n",
              "  'HTML/CSS',\n",
              "  'Python',\n",
              "  'SQL',\n",
              "  'TypeScript',\n",
              "  'Bash/Shell (all shells)',\n",
              "  'Java',\n",
              "  'C#',\n",
              "  'C++',\n",
              "  'C',\n",
              "  'PHP',\n",
              "  'PowerShell',\n",
              "  'Go',\n",
              "  'Rust',\n",
              "  'Kotlin',\n",
              "  'Ruby',\n",
              "  'Lua',\n",
              "  'Dart',\n",
              "  'Assembly',\n",
              "  'Swift',\n",
              "  'R',\n",
              "  'Visual Basic (.Net)',\n",
              "  'MATLAB',\n",
              "  'VBA',\n",
              "  'Groovy',\n",
              "  'Delphi',\n",
              "  'Scala',\n",
              "  'Perl',\n",
              "  'Elixir',\n",
              "  'Objective-C',\n",
              "  'Haskell',\n",
              "  'GDScript',\n",
              "  'Lisp',\n",
              "  'Solidity',\n",
              "  'Clojure',\n",
              "  'Julia',\n",
              "  'Erlang',\n",
              "  'F#',\n",
              "  'Fortran',\n",
              "  'Prolog',\n",
              "  'Zig',\n",
              "  'Ada',\n",
              "  'OCaml',\n",
              "  'Apex',\n",
              "  'Cobol',\n",
              "  'SAS',\n",
              "  'Crystal',\n",
              "  'Nim',\n",
              "  'APL',\n",
              "  'Flow',\n",
              "  'Raku'],\n",
              " 'Percentage': [63.61,\n",
              "  52.97,\n",
              "  49.28,\n",
              "  48.66,\n",
              "  38.87,\n",
              "  32.37,\n",
              "  30.55,\n",
              "  27.62,\n",
              "  22.42,\n",
              "  19.34,\n",
              "  18.58,\n",
              "  13.59,\n",
              "  13.24,\n",
              "  13.05,\n",
              "  9.06,\n",
              "  6.23,\n",
              "  6.09,\n",
              "  6.02,\n",
              "  5.43,\n",
              "  4.65,\n",
              "  4.23,\n",
              "  4.07,\n",
              "  3.81,\n",
              "  3.55,\n",
              "  3.4,\n",
              "  3.23,\n",
              "  2.77,\n",
              "  2.46,\n",
              "  2.32,\n",
              "  2.31,\n",
              "  2.09,\n",
              "  1.71,\n",
              "  1.53,\n",
              "  1.33,\n",
              "  1.26,\n",
              "  1.15,\n",
              "  0.99,\n",
              "  0.97,\n",
              "  0.95,\n",
              "  0.89,\n",
              "  0.83,\n",
              "  0.77,\n",
              "  0.7,\n",
              "  0.66,\n",
              "  0.66,\n",
              "  0.49,\n",
              "  0.44,\n",
              "  0.38,\n",
              "  0.26,\n",
              "  0.24,\n",
              "  0.18]}"
            ]
          },
          "metadata": {},
          "execution_count": 8
        }
      ]
    },
    {
      "cell_type": "code",
      "source": [
        "#Creating a DataFrame\n",
        "import pandas as pd\n",
        "\n",
        "df = pd.DataFrame(dataset_dict)\n",
        "df.head()"
      ],
      "metadata": {
        "colab": {
          "base_uri": "https://localhost:8080/",
          "height": 206
        },
        "id": "wSYGrqrXbg3T",
        "outputId": "72d91ec6-3e61-4928-d3b9-9bc58594e61c"
      },
      "execution_count": 9,
      "outputs": [
        {
          "output_type": "execute_result",
          "data": {
            "text/plain": [
              "  Programming Language  Percentage\n",
              "0           JavaScript       63.61\n",
              "1             HTML/CSS       52.97\n",
              "2               Python       49.28\n",
              "3                  SQL       48.66\n",
              "4           TypeScript       38.87"
            ],
            "text/html": [
              "\n",
              "  <div id=\"df-5c4fc7b2-b143-4087-9423-594263ac5fdb\" class=\"colab-df-container\">\n",
              "    <div>\n",
              "<style scoped>\n",
              "    .dataframe tbody tr th:only-of-type {\n",
              "        vertical-align: middle;\n",
              "    }\n",
              "\n",
              "    .dataframe tbody tr th {\n",
              "        vertical-align: top;\n",
              "    }\n",
              "\n",
              "    .dataframe thead th {\n",
              "        text-align: right;\n",
              "    }\n",
              "</style>\n",
              "<table border=\"1\" class=\"dataframe\">\n",
              "  <thead>\n",
              "    <tr style=\"text-align: right;\">\n",
              "      <th></th>\n",
              "      <th>Programming Language</th>\n",
              "      <th>Percentage</th>\n",
              "    </tr>\n",
              "  </thead>\n",
              "  <tbody>\n",
              "    <tr>\n",
              "      <th>0</th>\n",
              "      <td>JavaScript</td>\n",
              "      <td>63.61</td>\n",
              "    </tr>\n",
              "    <tr>\n",
              "      <th>1</th>\n",
              "      <td>HTML/CSS</td>\n",
              "      <td>52.97</td>\n",
              "    </tr>\n",
              "    <tr>\n",
              "      <th>2</th>\n",
              "      <td>Python</td>\n",
              "      <td>49.28</td>\n",
              "    </tr>\n",
              "    <tr>\n",
              "      <th>3</th>\n",
              "      <td>SQL</td>\n",
              "      <td>48.66</td>\n",
              "    </tr>\n",
              "    <tr>\n",
              "      <th>4</th>\n",
              "      <td>TypeScript</td>\n",
              "      <td>38.87</td>\n",
              "    </tr>\n",
              "  </tbody>\n",
              "</table>\n",
              "</div>\n",
              "    <div class=\"colab-df-buttons\">\n",
              "\n",
              "  <div class=\"colab-df-container\">\n",
              "    <button class=\"colab-df-convert\" onclick=\"convertToInteractive('df-5c4fc7b2-b143-4087-9423-594263ac5fdb')\"\n",
              "            title=\"Convert this dataframe to an interactive table.\"\n",
              "            style=\"display:none;\">\n",
              "\n",
              "  <svg xmlns=\"http://www.w3.org/2000/svg\" height=\"24px\" viewBox=\"0 -960 960 960\">\n",
              "    <path d=\"M120-120v-720h720v720H120Zm60-500h600v-160H180v160Zm220 220h160v-160H400v160Zm0 220h160v-160H400v160ZM180-400h160v-160H180v160Zm440 0h160v-160H620v160ZM180-180h160v-160H180v160Zm440 0h160v-160H620v160Z\"/>\n",
              "  </svg>\n",
              "    </button>\n",
              "\n",
              "  <style>\n",
              "    .colab-df-container {\n",
              "      display:flex;\n",
              "      gap: 12px;\n",
              "    }\n",
              "\n",
              "    .colab-df-convert {\n",
              "      background-color: #E8F0FE;\n",
              "      border: none;\n",
              "      border-radius: 50%;\n",
              "      cursor: pointer;\n",
              "      display: none;\n",
              "      fill: #1967D2;\n",
              "      height: 32px;\n",
              "      padding: 0 0 0 0;\n",
              "      width: 32px;\n",
              "    }\n",
              "\n",
              "    .colab-df-convert:hover {\n",
              "      background-color: #E2EBFA;\n",
              "      box-shadow: 0px 1px 2px rgba(60, 64, 67, 0.3), 0px 1px 3px 1px rgba(60, 64, 67, 0.15);\n",
              "      fill: #174EA6;\n",
              "    }\n",
              "\n",
              "    .colab-df-buttons div {\n",
              "      margin-bottom: 4px;\n",
              "    }\n",
              "\n",
              "    [theme=dark] .colab-df-convert {\n",
              "      background-color: #3B4455;\n",
              "      fill: #D2E3FC;\n",
              "    }\n",
              "\n",
              "    [theme=dark] .colab-df-convert:hover {\n",
              "      background-color: #434B5C;\n",
              "      box-shadow: 0px 1px 3px 1px rgba(0, 0, 0, 0.15);\n",
              "      filter: drop-shadow(0px 1px 2px rgba(0, 0, 0, 0.3));\n",
              "      fill: #FFFFFF;\n",
              "    }\n",
              "  </style>\n",
              "\n",
              "    <script>\n",
              "      const buttonEl =\n",
              "        document.querySelector('#df-5c4fc7b2-b143-4087-9423-594263ac5fdb button.colab-df-convert');\n",
              "      buttonEl.style.display =\n",
              "        google.colab.kernel.accessAllowed ? 'block' : 'none';\n",
              "\n",
              "      async function convertToInteractive(key) {\n",
              "        const element = document.querySelector('#df-5c4fc7b2-b143-4087-9423-594263ac5fdb');\n",
              "        const dataTable =\n",
              "          await google.colab.kernel.invokeFunction('convertToInteractive',\n",
              "                                                    [key], {});\n",
              "        if (!dataTable) return;\n",
              "\n",
              "        const docLinkHtml = 'Like what you see? Visit the ' +\n",
              "          '<a target=\"_blank\" href=https://colab.research.google.com/notebooks/data_table.ipynb>data table notebook</a>'\n",
              "          + ' to learn more about interactive tables.';\n",
              "        element.innerHTML = '';\n",
              "        dataTable['output_type'] = 'display_data';\n",
              "        await google.colab.output.renderOutput(dataTable, element);\n",
              "        const docLink = document.createElement('div');\n",
              "        docLink.innerHTML = docLinkHtml;\n",
              "        element.appendChild(docLink);\n",
              "      }\n",
              "    </script>\n",
              "  </div>\n",
              "\n",
              "\n",
              "<div id=\"df-1e821539-97fa-447d-a371-c56418d57edf\">\n",
              "  <button class=\"colab-df-quickchart\" onclick=\"quickchart('df-1e821539-97fa-447d-a371-c56418d57edf')\"\n",
              "            title=\"Suggest charts\"\n",
              "            style=\"display:none;\">\n",
              "\n",
              "<svg xmlns=\"http://www.w3.org/2000/svg\" height=\"24px\"viewBox=\"0 0 24 24\"\n",
              "     width=\"24px\">\n",
              "    <g>\n",
              "        <path d=\"M19 3H5c-1.1 0-2 .9-2 2v14c0 1.1.9 2 2 2h14c1.1 0 2-.9 2-2V5c0-1.1-.9-2-2-2zM9 17H7v-7h2v7zm4 0h-2V7h2v10zm4 0h-2v-4h2v4z\"/>\n",
              "    </g>\n",
              "</svg>\n",
              "  </button>\n",
              "\n",
              "<style>\n",
              "  .colab-df-quickchart {\n",
              "      --bg-color: #E8F0FE;\n",
              "      --fill-color: #1967D2;\n",
              "      --hover-bg-color: #E2EBFA;\n",
              "      --hover-fill-color: #174EA6;\n",
              "      --disabled-fill-color: #AAA;\n",
              "      --disabled-bg-color: #DDD;\n",
              "  }\n",
              "\n",
              "  [theme=dark] .colab-df-quickchart {\n",
              "      --bg-color: #3B4455;\n",
              "      --fill-color: #D2E3FC;\n",
              "      --hover-bg-color: #434B5C;\n",
              "      --hover-fill-color: #FFFFFF;\n",
              "      --disabled-bg-color: #3B4455;\n",
              "      --disabled-fill-color: #666;\n",
              "  }\n",
              "\n",
              "  .colab-df-quickchart {\n",
              "    background-color: var(--bg-color);\n",
              "    border: none;\n",
              "    border-radius: 50%;\n",
              "    cursor: pointer;\n",
              "    display: none;\n",
              "    fill: var(--fill-color);\n",
              "    height: 32px;\n",
              "    padding: 0;\n",
              "    width: 32px;\n",
              "  }\n",
              "\n",
              "  .colab-df-quickchart:hover {\n",
              "    background-color: var(--hover-bg-color);\n",
              "    box-shadow: 0 1px 2px rgba(60, 64, 67, 0.3), 0 1px 3px 1px rgba(60, 64, 67, 0.15);\n",
              "    fill: var(--button-hover-fill-color);\n",
              "  }\n",
              "\n",
              "  .colab-df-quickchart-complete:disabled,\n",
              "  .colab-df-quickchart-complete:disabled:hover {\n",
              "    background-color: var(--disabled-bg-color);\n",
              "    fill: var(--disabled-fill-color);\n",
              "    box-shadow: none;\n",
              "  }\n",
              "\n",
              "  .colab-df-spinner {\n",
              "    border: 2px solid var(--fill-color);\n",
              "    border-color: transparent;\n",
              "    border-bottom-color: var(--fill-color);\n",
              "    animation:\n",
              "      spin 1s steps(1) infinite;\n",
              "  }\n",
              "\n",
              "  @keyframes spin {\n",
              "    0% {\n",
              "      border-color: transparent;\n",
              "      border-bottom-color: var(--fill-color);\n",
              "      border-left-color: var(--fill-color);\n",
              "    }\n",
              "    20% {\n",
              "      border-color: transparent;\n",
              "      border-left-color: var(--fill-color);\n",
              "      border-top-color: var(--fill-color);\n",
              "    }\n",
              "    30% {\n",
              "      border-color: transparent;\n",
              "      border-left-color: var(--fill-color);\n",
              "      border-top-color: var(--fill-color);\n",
              "      border-right-color: var(--fill-color);\n",
              "    }\n",
              "    40% {\n",
              "      border-color: transparent;\n",
              "      border-right-color: var(--fill-color);\n",
              "      border-top-color: var(--fill-color);\n",
              "    }\n",
              "    60% {\n",
              "      border-color: transparent;\n",
              "      border-right-color: var(--fill-color);\n",
              "    }\n",
              "    80% {\n",
              "      border-color: transparent;\n",
              "      border-right-color: var(--fill-color);\n",
              "      border-bottom-color: var(--fill-color);\n",
              "    }\n",
              "    90% {\n",
              "      border-color: transparent;\n",
              "      border-bottom-color: var(--fill-color);\n",
              "    }\n",
              "  }\n",
              "</style>\n",
              "\n",
              "  <script>\n",
              "    async function quickchart(key) {\n",
              "      const quickchartButtonEl =\n",
              "        document.querySelector('#' + key + ' button');\n",
              "      quickchartButtonEl.disabled = true;  // To prevent multiple clicks.\n",
              "      quickchartButtonEl.classList.add('colab-df-spinner');\n",
              "      try {\n",
              "        const charts = await google.colab.kernel.invokeFunction(\n",
              "            'suggestCharts', [key], {});\n",
              "      } catch (error) {\n",
              "        console.error('Error during call to suggestCharts:', error);\n",
              "      }\n",
              "      quickchartButtonEl.classList.remove('colab-df-spinner');\n",
              "      quickchartButtonEl.classList.add('colab-df-quickchart-complete');\n",
              "    }\n",
              "    (() => {\n",
              "      let quickchartButtonEl =\n",
              "        document.querySelector('#df-1e821539-97fa-447d-a371-c56418d57edf button');\n",
              "      quickchartButtonEl.style.display =\n",
              "        google.colab.kernel.accessAllowed ? 'block' : 'none';\n",
              "    })();\n",
              "  </script>\n",
              "</div>\n",
              "\n",
              "    </div>\n",
              "  </div>\n"
            ]
          },
          "metadata": {},
          "execution_count": 9
        }
      ]
    },
    {
      "cell_type": "code",
      "source": [
        "#Plot\n",
        "import matplotlib.pyplot as plt\n",
        "graph, plot = plt.subplots(figsize=(12, 6))\n",
        "plot.bar(df['Programming Language'], df['Percentage'], color='violet')\n",
        "plot.set_title('Most used programming languages in 2023')\n",
        "plot.set_ylabel('Percentage(%)')\n",
        "plot.set_xticklabels(df['Programming Language'], rotation=90)\n",
        "plot.text('Julia', 60, 'Source = Statista(2023)')\n",
        "graph.show()"
      ],
      "metadata": {
        "colab": {
          "base_uri": "https://localhost:8080/",
          "height": 713
        },
        "id": "xoFcH8jTqd7j",
        "outputId": "9cbb12e1-bd4d-49e5-f9d1-e4b73d4f9b5b"
      },
      "execution_count": 17,
      "outputs": [
        {
          "output_type": "stream",
          "name": "stderr",
          "text": [
            "<ipython-input-17-20593c7b5284>:7: UserWarning: FixedFormatter should only be used together with FixedLocator\n",
            "  plot.set_xticklabels(df['Programming Language'], rotation=90)\n"
          ]
        },
        {
          "output_type": "display_data",
          "data": {
            "text/plain": [
              "<Figure size 1200x600 with 1 Axes>"
            ],
            "image/png": "[encoded data removed]"
          },
          "metadata": {}
        }
      ]
    }
  ]
}